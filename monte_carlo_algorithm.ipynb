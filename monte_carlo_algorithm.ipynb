{
  "nbformat": 4,
  "nbformat_minor": 0,
  "metadata": {
    "colab": {
      "provenance": [],
      "authorship_tag": "ABX9TyOFbLj938YnWCclHWklLo+f",
      "include_colab_link": true
    },
    "kernelspec": {
      "name": "python3",
      "display_name": "Python 3"
    },
    "language_info": {
      "name": "python"
    }
  },
  "cells": [
    {
      "cell_type": "markdown",
      "metadata": {
        "id": "view-in-github",
        "colab_type": "text"
      },
      "source": [
        "<a href=\"https://colab.research.google.com/github/domshog/Facial-Expression-Classification-Keras-/blob/main/monte_carlo_algorithm.ipynb\" target=\"_parent\"><img src=\"https://colab.research.google.com/assets/colab-badge.svg\" alt=\"Open In Colab\"/></a>"
      ]
    },
    {
      "cell_type": "code",
      "execution_count": null,
      "metadata": {
        "colab": {
          "base_uri": "https://localhost:8080/"
        },
        "id": "-GUUQnzO9FD2",
        "outputId": "c12310a8-f5ae-43ca-f0c3-704e6ab5520c"
      },
      "outputs": [
        {
          "output_type": "stream",
          "name": "stdout",
          "text": [
            "3.1372\n"
          ]
        }
      ],
      "source": [
        "import random\n",
        "\n",
        "def estimate_pi(n):\n",
        "    count = 0\n",
        "    for i in range(n):\n",
        "        x = random.uniform(-1, 1)\n",
        "        y = random.uniform(-1, 1)\n",
        "        if x**2 + y**2 <= 1:\n",
        "            count += 1\n",
        "    return 4 * count / n\n",
        "\n",
        "print(estimate_pi(10000))"
      ]
    }
  ]
}